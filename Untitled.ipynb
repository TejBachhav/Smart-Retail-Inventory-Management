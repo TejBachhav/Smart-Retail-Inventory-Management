{
 "cells": [
  {
   "cell_type": "code",
   "execution_count": 1,
   "id": "781faa17-6415-49f0-92ed-dda4e944f697",
   "metadata": {},
   "outputs": [
    {
     "name": "stderr",
     "output_type": "stream",
     "text": [
      "/home/workbench/nvidia-workbench/Smart-Retail-Inventory-Management/.venv/lib/python3.10/site-packages/torch/_subclasses/functional_tensor.py:258: UserWarning: Failed to initialize NumPy: No module named 'numpy' (Triggered internally at ../torch/csrc/utils/tensor_numpy.cpp:84.)\n",
      "  cpu = _conversion_method_template(device=torch.device(\"cpu\"))\n"
     ]
    },
    {
     "name": "stdout",
     "output_type": "stream",
     "text": [
      "CUDA is available: True\n",
      "PyTorch version: 2.4.1+cu121\n"
     ]
    }
   ],
   "source": [
    "import torch\n",
    "\n",
    "# Check if CUDA is available\n",
    "print(\"CUDA is available:\", torch.cuda.is_available())\n",
    "\n",
    "# Check PyTorch version\n",
    "print(\"PyTorch version:\", torch.__version__)\n"
   ]
  },
  {
   "cell_type": "code",
   "execution_count": 4,
   "id": "7c442206",
   "metadata": {},
   "outputs": [
    {
     "name": "stdout",
     "output_type": "stream",
     "text": [
      "Dataset extracted successfully!\n"
     ]
    }
   ],
   "source": [
    "import zipfile\n",
    "import os\n",
    "\n",
    "# Paths to the dataset zips\n",
    "invitro_zip_path = 'data/inVitro.zip'\n",
    "index_zip_path = 'data/index.zip'\n",
    "\n",
    "# Extract the zip files\n",
    "with zipfile.ZipFile(invitro_zip_path, 'r') as zip_ref:\n",
    "    zip_ref.extractall('data/invitro')\n",
    "\n",
    "with zipfile.ZipFile(index_zip_path, 'r') as zip_ref:\n",
    "    zip_ref.extractall('data/index')\n",
    "\n",
    "print(\"Dataset extracted successfully!\")\n"
   ]
  },
  {
   "cell_type": "code",
   "execution_count": 6,
   "id": "226da974",
   "metadata": {},
   "outputs": [
    {
     "name": "stdout",
     "output_type": "stream",
     "text": [
      "Data organized and YOLO labels generated successfully!\n"
     ]
    }
   ],
   "source": [
    "import os\n",
    "import shutil\n",
    "\n",
    "# Define paths\n",
    "invitro_folder = '/home/workbench/nvidia-workbench/Smart-Retail-Inventory-Management/data/invitro/inVitro'\n",
    "output_image_folder = '/home/workbench/nvidia-workbench/Smart-Retail-Inventory-Management/data/yolo/train/images'\n",
    "output_label_folder = '/home/workbench/nvidia-workbench/Smart-Retail-Inventory-Management/data/yolo/train/labels'\n",
    "\n",
    "# Create output directories\n",
    "os.makedirs(output_image_folder, exist_ok=True)\n",
    "os.makedirs(output_label_folder, exist_ok=True)\n",
    "\n",
    "# Function to generate dummy labels\n",
    "def generate_dummy_labels(image_id, class_id):\n",
    "    # YOLO format requires: class_id x_center y_center width height\n",
    "    x_center, y_center = 0.5, 0.5  # Assuming centered\n",
    "    width, height = 1.0, 1.0  # Assuming the object fills the image\n",
    "\n",
    "    # Create the label file\n",
    "    label_file_path = os.path.join(output_label_folder, f\"{image_id}.txt\")\n",
    "    with open(label_file_path, 'w') as f:\n",
    "        f.write(f\"{class_id} {x_center} {y_center} {width} {height}\\n\")\n",
    "\n",
    "# Process each product folder\n",
    "for folder_num in range(1, 121):\n",
    "    product_folder = os.path.join(invitro_folder, str(folder_num), 'web', 'JPEG')\n",
    "\n",
    "    # Class ID will be the folder number (0-indexed for YOLO)\n",
    "    class_id = folder_num - 1\n",
    "    \n",
    "    # Process images in the JPEG folder\n",
    "    for img_file in os.listdir(product_folder):\n",
    "        if img_file.lower().endswith(('.jpg', '.jpeg')):\n",
    "            # Create image ID based on folder number and file name\n",
    "            image_id = f\"{folder_num}_{img_file.split('.')[0]}\"\n",
    "            src_image_path = os.path.join(product_folder, img_file)\n",
    "            dst_image_path = os.path.join(output_image_folder, f\"{image_id}.jpg\")\n",
    "            \n",
    "            # Copy the image to the output directory\n",
    "            shutil.copy(src_image_path, dst_image_path)\n",
    "\n",
    "            # Generate YOLO label for this image\n",
    "            generate_dummy_labels(image_id, class_id)\n",
    "\n",
    "print(\"Data organized and YOLO labels generated successfully!\")\n"
   ]
  },
  {
   "cell_type": "code",
   "execution_count": 22,
   "id": "7c5cfd1f",
   "metadata": {},
   "outputs": [
    {
     "name": "stdout",
     "output_type": "stream",
     "text": [
      "YOLO labels generated successfully!\n"
     ]
    }
   ],
   "source": [
    "import os\n",
    "\n",
    "# Define paths\n",
    "index_folder = '/home/workbench/nvidia-workbench/Smart-Retail-Inventory-Management/data/yolo/val/images/index2'\n",
    "output_val_label_folder = '/home/workbench/nvidia-workbench/Smart-Retail-Inventory-Management/data/yolo/val/labels'\n",
    "upc_index_file = '/home/workbench/nvidia-workbench/Smart-Retail-Inventory-Management/data/yolo/val/labels/UPC_index.txt'\n",
    "\n",
    "# Create output directory for labels\n",
    "os.makedirs(output_val_label_folder, exist_ok=True)\n",
    "\n",
    "# Load UPC index mapping and create class map\n",
    "class_map = {}\n",
    "with open(upc_index_file, 'r') as f:\n",
    "    for line in f.readlines():\n",
    "        parts = line.strip().split()\n",
    "        if len(parts) >= 1:  # Ensure valid format\n",
    "            image_id = parts[0]  # Image ID (assuming it corresponds to the image filename)\n",
    "            class_map[image_id] = parts[0]  # Directly use the number as class ID\n",
    "\n",
    "# Function to generate YOLO labels\n",
    "def generate_yolo_labels(image_id, class_id):\n",
    "    # Convert class_id to integer and adjust to start from 0\n",
    "    class_id_adjusted = int(class_id) - 1  # Subtract 1 to start from 0\n",
    "    \n",
    "    # Assuming centered and the object fills the image\n",
    "    x_center, y_center = 0.5, 0.5\n",
    "    width, height = 1.0, 1.0  # Full image assumed as the bounding box\n",
    "\n",
    "    # Create the label file\n",
    "    label_file_path = os.path.join(output_val_label_folder, f\"{image_id}.txt\")\n",
    "    with open(label_file_path, 'w') as f:\n",
    "        f.write(f\"{class_id_adjusted} {x_center} {y_center} {width} {height}\\n\")\n",
    "\n",
    "# Generate labels for each image based on class mapping\n",
    "for img_file in os.listdir(index_folder):\n",
    "    if img_file.lower().endswith('.jpg'):  # Handle case insensitivity\n",
    "        image_id = os.path.splitext(img_file)[0]  # Get the number part (e.g., '1', '2', ...)\n",
    "        \n",
    "        if image_id in class_map:\n",
    "            class_id = class_map[image_id]  # Use the number as class ID\n",
    "            # Generate YOLO label for this image\n",
    "            generate_yolo_labels(image_id, class_id)\n",
    "\n",
    "print(\"YOLO labels generated successfully!\")\n",
    "\n"
   ]
  },
  {
   "cell_type": "code",
   "execution_count": null,
   "id": "fe3eb34a",
   "metadata": {},
   "outputs": [],
   "source": [
    "python val.py --weights /home/workbench/nvidia-workbench/Smart-Retail-Inventory-Management/yolov5/runs/train/exp9/weights/best.pt --data /home/workbench/nvidia-workbench/Smart-Retail-Inventory-Management/data/yolo/data.yaml --img 640 --iou-thres 0.5\n"
   ]
  },
  {
   "cell_type": "code",
   "execution_count": null,
   "id": "f0748e76",
   "metadata": {},
   "outputs": [],
   "source": [
    "python train.py --img 640 --batch 16 --epochs 50 --data /home/workbench/nvidia-workbench/Smart-Retail-Inventory-Management/data/yolo/data.yaml --weights yolov5s.ptead."
   ]
  },
  {
   "cell_type": "code",
   "execution_count": null,
   "id": "8329bd3f",
   "metadata": {},
   "outputs": [],
   "source": [
    "python detect.py --weights /home/workbench/nvidia-workbench/Smart-Retail-Inventory-Management/yolov5/runs/train/exp9/weights/best.pt --img 640 --conf 0.25 --source /home/workbench/nvidia-workbench/Smart-Retail-Inventory-Management/data/yolo/val/images/6.jpg"
   ]
  }
 ],
 "metadata": {
  "kernelspec": {
   "display_name": "Python 3 (ipykernel)",
   "language": "python",
   "name": "python3"
  },
  "language_info": {
   "codemirror_mode": {
    "name": "ipython",
    "version": 3
   },
   "file_extension": ".py",
   "mimetype": "text/x-python",
   "name": "python",
   "nbconvert_exporter": "python",
   "pygments_lexer": "ipython3",
   "version": "3.10.12"
  }
 },
 "nbformat": 4,
 "nbformat_minor": 5
}
